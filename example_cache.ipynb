{
  "nbformat": 4,
  "nbformat_minor": 0,
  "metadata": {
    "colab": {
      "name": "example_cache.ipynb",
      "version": "0.3.2",
      "provenance": []
    },
    "kernelspec": {
      "display_name": "Python 3",
      "language": "python",
      "name": "python3"
    }
  },
  "cells": [
    {
      "metadata": {
        "id": "X_POgk-H6AJB",
        "colab_type": "text"
      },
      "cell_type": "markdown",
      "source": [
        "# Speeding up PyStan demos on Google Colab with model caching"
      ]
    },
    {
      "metadata": {
        "id": "bA07Y9aj6AJJ",
        "colab_type": "text"
      },
      "cell_type": "markdown",
      "source": [
        "To speed up demos with caching, user needs to upload compiled models to github."
      ]
    },
    {
      "metadata": {
        "id": "yL6djGjm6AJM",
        "colab_type": "code",
        "colab": {
          "base_uri": "https://localhost:8080/",
          "height": 136
        },
        "outputId": "e050bb39-22f8-4a2f-a664-49c555eb13ee"
      },
      "cell_type": "code",
      "source": [
        "!git clone https://github.com/ahartikainen/PyStan_Google_Colab_Demo\n",
        "import os\n",
        "os.chdir(\"PyStan_Google_Colab_Demo\")\n",
        "!git fetch --all\n",
        "!git reset --hard origin/master"
      ],
      "execution_count": 1,
      "outputs": [
        {
          "output_type": "stream",
          "text": [
            "Cloning into 'PyStan_Google_Colab_Demo'...\n",
            "remote: Counting objects: 34, done.\u001b[K\n",
            "remote: Compressing objects: 100% (26/26), done.\u001b[K\n",
            "remote: Total 34 (delta 13), reused 23 (delta 6), pack-reused 0\u001b[K\n",
            "Unpacking objects: 100% (34/34), done.\n",
            "Fetching origin\n",
            "HEAD is now at e1eeb07 add read and save\n"
          ],
          "name": "stdout"
        }
      ]
    },
    {
      "metadata": {
        "id": "Ex5uMtVS6AJX",
        "colab_type": "code",
        "colab": {
          "base_uri": "https://localhost:8080/",
          "height": 34
        },
        "outputId": "8ffbf4c6-6ca9-4c39-9ae6-40d31d8e0d53"
      },
      "cell_type": "code",
      "source": [
        "!ls"
      ],
      "execution_count": 2,
      "outputs": [
        {
          "output_type": "stream",
          "text": [
            "example_cache.ipynb  LICENSE  models  README.md  stan_colab_utils.py\r\n"
          ],
          "name": "stdout"
        }
      ]
    },
    {
      "metadata": {
        "id": "bU7mP12J6AJf",
        "colab_type": "code",
        "colab": {}
      },
      "cell_type": "code",
      "source": [
        "from stan_colab_utils import StanModel, install, read, save"
      ],
      "execution_count": 0,
      "outputs": []
    },
    {
      "metadata": {
        "id": "1EeihgAj6AJn",
        "colab_type": "code",
        "colab": {
          "base_uri": "https://localhost:8080/",
          "height": 119
        },
        "outputId": "4e2c7436-d616-41bf-91ed-cb891740211b"
      },
      "cell_type": "code",
      "source": [
        "install(\"pystan\")\n",
        "import pystan"
      ],
      "execution_count": 4,
      "outputs": [
        {
          "output_type": "stream",
          "text": [
            "Collecting pystan\n",
            "  Using cached https://files.pythonhosted.org/packages/46/37/801a5a932e7f1f038542e7c5e4c4010aac19a26ea6bde9534505465f8c8c/pystan-2.17.1.0-cp36-cp36m-manylinux1_x86_64.whl\n",
            "Requirement already satisfied: Cython!=0.25.1,>=0.22 in /usr/local/lib/python3.6/dist-packages (from pystan) (0.28.5)\n",
            "Requirement already satisfied: numpy>=1.7 in /usr/local/lib/python3.6/dist-packages (from pystan) (1.14.5)\n",
            "Installing collected packages: pystan\n",
            "Successfully installed pystan-2.17.1.0\n"
          ],
          "name": "stdout"
        }
      ]
    },
    {
      "metadata": {
        "id": "YsUkS5Zl6AJu",
        "colab_type": "code",
        "colab": {}
      },
      "cell_type": "code",
      "source": [
        "# Paths\n",
        "eight_schools_path =            \"models/eight_schools/8schools.stan\"\n",
        "eight_schools_data_path =       \"models/eight_schools/8schools.data.R\"\n",
        "eight_schools_model_cache =     \"models/eight_schools/8schools_model.gz\"\n",
        "eight_schools_model_fit_cache = \"models/eight_schools/8schools_model_fit.gz\""
      ],
      "execution_count": 0,
      "outputs": []
    },
    {
      "metadata": {
        "id": "BQBkTCAO6AJ0",
        "colab_type": "text"
      },
      "cell_type": "markdown",
      "source": [
        "## 8-schools model"
      ]
    },
    {
      "metadata": {
        "id": "D1uOfDDy6AJ2",
        "colab_type": "code",
        "colab": {
          "base_uri": "https://localhost:8080/",
          "height": 323
        },
        "outputId": "94593e74-378d-48f9-93db-387b690bafc0"
      },
      "cell_type": "code",
      "source": [
        "with open(eight_schools_path, \"r\") as f:\n",
        "    print(f.read())"
      ],
      "execution_count": 6,
      "outputs": [
        {
          "output_type": "stream",
          "text": [
            "data {\n",
            "    int<lower=0> J; // number of schools\n",
            "    vector[J] y; // estimated treatment effects\n",
            "    vector<lower=0>[J] sigma; // s.e. of effect estimates\n",
            "}\n",
            "parameters {\n",
            "    real mu;\n",
            "    real<lower=0> tau;\n",
            "    vector[J] eta;\n",
            "}\n",
            "transformed parameters {\n",
            "    vector[J] theta;\n",
            "    theta = mu + tau * eta;\n",
            "}\n",
            "model {\n",
            "    eta ~ normal(0, 1);\n",
            "    y ~ normal(theta, sigma);\n",
            "}\n"
          ],
          "name": "stdout"
        }
      ]
    },
    {
      "metadata": {
        "id": "q_dClItu6AJ7",
        "colab_type": "text"
      },
      "cell_type": "markdown",
      "source": [
        "## 8-schools data"
      ]
    },
    {
      "metadata": {
        "id": "ccwMmPcJ6AJ8",
        "colab_type": "code",
        "colab": {
          "base_uri": "https://localhost:8080/",
          "height": 68
        },
        "outputId": "94f499e0-a546-4686-cf33-a50636121acc"
      },
      "cell_type": "code",
      "source": [
        "stan_data = pystan.read_rdump(eight_schools_data_path)\n",
        "stan_data"
      ],
      "execution_count": 7,
      "outputs": [
        {
          "output_type": "execute_result",
          "data": {
            "text/plain": [
              "OrderedDict([('J', array(8)),\n",
              "             ('y', array([28,  8, -3,  7, -1,  1, 18, 12])),\n",
              "             ('sigma', array([15, 10, 16, 11,  9, 11, 10, 18]))])"
            ]
          },
          "metadata": {
            "tags": []
          },
          "execution_count": 7
        }
      ]
    },
    {
      "metadata": {
        "id": "ixDvVPju6AKB",
        "colab_type": "code",
        "colab": {}
      },
      "cell_type": "code",
      "source": [
        "stan_seed = 2018"
      ],
      "execution_count": 0,
      "outputs": []
    },
    {
      "metadata": {
        "id": "E9Ctg33x6AKJ",
        "colab_type": "text"
      },
      "cell_type": "markdown",
      "source": [
        "### Compile model and sample"
      ]
    },
    {
      "metadata": {
        "id": "_EVAevoY6AKK",
        "colab_type": "code",
        "colab": {
          "base_uri": "https://localhost:8080/",
          "height": 136
        },
        "outputId": "8a73047e-1cf0-42a8-92cf-4f65e7754bad"
      },
      "cell_type": "code",
      "source": [
        "%%time\n",
        "%time stan_model = pystan.StanModel(file=eight_schools_path)\n",
        "%time fit = stan_model.sampling(data=stan_data, seed=stan_seed)"
      ],
      "execution_count": 9,
      "outputs": [
        {
          "output_type": "stream",
          "text": [
            "COMPILING THE C++ CODE FOR MODEL anon_model_b9d9d4eb1cc460053ac2b8a9dd68028e NOW.\n",
            "CPU times: user 1.1 s, sys: 208 ms, total: 1.31 s\n",
            "Wall time: 1min 3s\n",
            "CPU times: user 10.7 ms, sys: 39.3 ms, total: 50 ms\n",
            "Wall time: 357 ms\n",
            "CPU times: user 1.11 s, sys: 249 ms, total: 1.36 s\n",
            "Wall time: 1min 4s\n"
          ],
          "name": "stdout"
        }
      ]
    },
    {
      "metadata": {
        "id": "0In0V9Iy6AKQ",
        "colab_type": "code",
        "colab": {
          "base_uri": "https://localhost:8080/",
          "height": 510
        },
        "outputId": "9e27e4da-36a1-4f46-91ef-6aa5e98cfa8f"
      },
      "cell_type": "code",
      "source": [
        "print(fit)"
      ],
      "execution_count": 10,
      "outputs": [
        {
          "output_type": "stream",
          "text": [
            "Inference for Stan model: anon_model_b9d9d4eb1cc460053ac2b8a9dd68028e.\n",
            "4 chains, each with iter=2000; warmup=1000; thin=1; \n",
            "post-warmup draws per chain=1000, total post-warmup draws=4000.\n",
            "\n",
            "           mean se_mean     sd   2.5%    25%    50%    75%  97.5%  n_eff   Rhat\n",
            "mu         8.03    0.11   5.12   -1.8   4.68   8.01  11.21   18.4   2243    1.0\n",
            "tau        6.63    0.14   5.46   0.26   2.48   5.45   9.28  20.87   1557    1.0\n",
            "eta[0]     0.39    0.01   0.95  -1.52  -0.24   0.41   1.05   2.14   4000    1.0\n",
            "eta[1]    -0.02    0.01   0.87  -1.76  -0.59  -0.01   0.55   1.66   4000    1.0\n",
            "eta[2]    -0.19    0.01   0.93  -2.02  -0.81  -0.18   0.43   1.66   4000    1.0\n",
            "eta[3]    -0.04    0.01   0.88  -1.76  -0.61  -0.05   0.53   1.71   4000    1.0\n",
            "eta[4]    -0.37    0.01   0.85   -2.1  -0.94  -0.36   0.18   1.32   4000    1.0\n",
            "eta[5]    -0.23    0.01   0.89  -1.99  -0.81  -0.23   0.34   1.58   4000    1.0\n",
            "eta[6]     0.34    0.01   0.88  -1.45   -0.2   0.36   0.94   2.05   4000    1.0\n",
            "eta[7]     0.02    0.01   0.92  -1.72  -0.61   0.03   0.65   1.85   4000    1.0\n",
            "theta[0]  11.57    0.15   8.49  -1.93   5.82  10.31  15.65  32.44   3410    1.0\n",
            "theta[1]    7.9     0.1   6.24  -4.39   3.85   7.94  11.69  21.08   4000    1.0\n",
            "theta[2]   6.23    0.13   7.94 -11.25   1.98   6.64  11.02  21.15   4000    1.0\n",
            "theta[3]   7.56     0.1   6.53  -5.97   3.52   7.48  11.58  20.75   4000    1.0\n",
            "theta[4]   5.12     0.1   6.26  -8.79   1.26   5.62   9.36  16.15   4000    1.0\n",
            "theta[5]   6.01    0.11   6.74  -9.17   2.18   6.49  10.28  18.87   4000    1.0\n",
            "theta[6]  10.82    0.11   6.93   -1.4   6.29  10.17  14.57  26.87   4000    1.0\n",
            "theta[7]   8.27    0.13   7.91  -7.71   3.78    8.0   12.7  25.28   4000    1.0\n",
            "lp__      -4.81    0.08   2.57 -10.47   -6.4  -4.55  -2.99   -0.4   1161    1.0\n",
            "\n",
            "Samples were drawn using NUTS at Tue 28 Aug 2018 02:25:16 PM .\n",
            "For each parameter, n_eff is a crude measure of effective sample size,\n",
            "and Rhat is the potential scale reduction factor on split chains (at \n",
            "convergence, Rhat=1).\n"
          ],
          "name": "stdout"
        }
      ]
    },
    {
      "metadata": {
        "id": "ogU27XTe6AKU",
        "colab_type": "text"
      },
      "cell_type": "markdown",
      "source": [
        "#### Update cache - Owner only [optional]"
      ]
    },
    {
      "metadata": {
        "id": "OIUfLI2Z6AKW",
        "colab_type": "code",
        "colab": {}
      },
      "cell_type": "code",
      "source": [
        "# To update git models run, change to True\n",
        "if False:\n",
        "    from stan_colab_utils import save, read\n",
        "    save(eight_schools_model_cache, stan_model)\n",
        "    save(eight_schools_model_fit_cache, [stan_model, fit])\n",
        "    \n",
        "    # To upload compiled models: \n",
        "    # download them to your local machine\n",
        "    # add to the correct git path --> add + push them to git\n",
        "    # Left menu --> files --> update\n",
        "    "
      ],
      "execution_count": 0,
      "outputs": []
    },
    {
      "metadata": {
        "id": "MFiLlHwS6AKa",
        "colab_type": "text"
      },
      "cell_type": "markdown",
      "source": [
        "### Read file from cache (or compile if not found) and sample"
      ]
    },
    {
      "metadata": {
        "id": "LhOL5rmA6AKb",
        "colab_type": "code",
        "colab": {
          "base_uri": "https://localhost:8080/",
          "height": 119
        },
        "outputId": "d72d327e-1d9f-4d28-e4eb-271071a4e5e6"
      },
      "cell_type": "code",
      "source": [
        "%%time\n",
        "%time stan_model2 = StanModel(file=eight_schools_path, cache_path=eight_schools_model_cache)\n",
        "%time fit2 = stan_model2.sampling(data=stan_data, seed=stan_seed)"
      ],
      "execution_count": 12,
      "outputs": [
        {
          "output_type": "stream",
          "text": [
            "CPU times: user 156 ms, sys: 195 ms, total: 351 ms\n",
            "Wall time: 352 ms\n",
            "CPU times: user 12 ms, sys: 29.6 ms, total: 41.6 ms\n",
            "Wall time: 350 ms\n",
            "CPU times: user 170 ms, sys: 225 ms, total: 395 ms\n",
            "Wall time: 705 ms\n"
          ],
          "name": "stdout"
        }
      ]
    },
    {
      "metadata": {
        "id": "ndoVXlH96AKe",
        "colab_type": "code",
        "colab": {
          "base_uri": "https://localhost:8080/",
          "height": 510
        },
        "outputId": "cf286b84-f951-471e-f7af-ab2b363245db"
      },
      "cell_type": "code",
      "source": [
        "print(fit2)"
      ],
      "execution_count": 13,
      "outputs": [
        {
          "output_type": "stream",
          "text": [
            "Inference for Stan model: anon_model_b9d9d4eb1cc460053ac2b8a9dd68028e.\n",
            "4 chains, each with iter=2000; warmup=1000; thin=1; \n",
            "post-warmup draws per chain=1000, total post-warmup draws=4000.\n",
            "\n",
            "           mean se_mean     sd   2.5%    25%    50%    75%  97.5%  n_eff   Rhat\n",
            "mu         8.03    0.11   5.12   -1.8   4.68   8.01  11.21   18.4   2243    1.0\n",
            "tau        6.63    0.14   5.46   0.26   2.48   5.45   9.28  20.87   1557    1.0\n",
            "eta[0]     0.39    0.01   0.95  -1.52  -0.24   0.41   1.05   2.14   4000    1.0\n",
            "eta[1]    -0.02    0.01   0.87  -1.76  -0.59  -0.01   0.55   1.66   4000    1.0\n",
            "eta[2]    -0.19    0.01   0.93  -2.02  -0.81  -0.18   0.43   1.66   4000    1.0\n",
            "eta[3]    -0.04    0.01   0.88  -1.76  -0.61  -0.05   0.53   1.71   4000    1.0\n",
            "eta[4]    -0.37    0.01   0.85   -2.1  -0.94  -0.36   0.18   1.32   4000    1.0\n",
            "eta[5]    -0.23    0.01   0.89  -1.99  -0.81  -0.23   0.34   1.58   4000    1.0\n",
            "eta[6]     0.34    0.01   0.88  -1.45   -0.2   0.36   0.94   2.05   4000    1.0\n",
            "eta[7]     0.02    0.01   0.92  -1.72  -0.61   0.03   0.65   1.85   4000    1.0\n",
            "theta[0]  11.57    0.15   8.49  -1.93   5.82  10.31  15.65  32.44   3410    1.0\n",
            "theta[1]    7.9     0.1   6.24  -4.39   3.85   7.94  11.69  21.08   4000    1.0\n",
            "theta[2]   6.23    0.13   7.94 -11.25   1.98   6.64  11.02  21.15   4000    1.0\n",
            "theta[3]   7.56     0.1   6.53  -5.97   3.52   7.48  11.58  20.75   4000    1.0\n",
            "theta[4]   5.12     0.1   6.26  -8.79   1.26   5.62   9.36  16.15   4000    1.0\n",
            "theta[5]   6.01    0.11   6.74  -9.17   2.18   6.49  10.28  18.87   4000    1.0\n",
            "theta[6]  10.82    0.11   6.93   -1.4   6.29  10.17  14.57  26.87   4000    1.0\n",
            "theta[7]   8.27    0.13   7.91  -7.71   3.78    8.0   12.7  25.28   4000    1.0\n",
            "lp__      -4.81    0.08   2.57 -10.47   -6.4  -4.55  -2.99   -0.4   1161    1.0\n",
            "\n",
            "Samples were drawn using NUTS at Tue 28 Aug 2018 02:25:19 PM .\n",
            "For each parameter, n_eff is a crude measure of effective sample size,\n",
            "and Rhat is the potential scale reduction factor on split chains (at \n",
            "convergence, Rhat=1).\n"
          ],
          "name": "stdout"
        }
      ]
    },
    {
      "metadata": {
        "id": "MYwIl0976AKg",
        "colab_type": "text"
      },
      "cell_type": "markdown",
      "source": [
        "## Read sampling results"
      ]
    },
    {
      "metadata": {
        "id": "MC5iAfiR6AKh",
        "colab_type": "code",
        "colab": {
          "base_uri": "https://localhost:8080/",
          "height": 85
        },
        "outputId": "715e01af-cb51-4807-e907-588cff80d378"
      },
      "cell_type": "code",
      "source": [
        "%%time\n",
        "# For slow models, it might be a good idea to save presampled data\n",
        "%time stan_model3, fit3 = read(eight_schools_model_fit_cache)"
      ],
      "execution_count": 14,
      "outputs": [
        {
          "output_type": "stream",
          "text": [
            "CPU times: user 170 ms, sys: 62.7 ms, total: 233 ms\n",
            "Wall time: 234 ms\n",
            "CPU times: user 172 ms, sys: 62.7 ms, total: 234 ms\n",
            "Wall time: 236 ms\n"
          ],
          "name": "stdout"
        }
      ]
    },
    {
      "metadata": {
        "id": "S-hhNcp76AKk",
        "colab_type": "code",
        "colab": {
          "base_uri": "https://localhost:8080/",
          "height": 510
        },
        "outputId": "9b794321-55d7-4a2a-dc06-e67342fffc63"
      },
      "cell_type": "code",
      "source": [
        "print(fit3)"
      ],
      "execution_count": 15,
      "outputs": [
        {
          "output_type": "stream",
          "text": [
            "Inference for Stan model: anon_model_b9d9d4eb1cc460053ac2b8a9dd68028e.\n",
            "4 chains, each with iter=2000; warmup=1000; thin=1; \n",
            "post-warmup draws per chain=1000, total post-warmup draws=4000.\n",
            "\n",
            "           mean se_mean     sd   2.5%    25%    50%    75%  97.5%  n_eff   Rhat\n",
            "mu         8.03    0.11   5.12   -1.8   4.68   8.01  11.21   18.4   2243    1.0\n",
            "tau        6.63    0.14   5.46   0.26   2.48   5.45   9.28  20.87   1557    1.0\n",
            "eta[0]     0.39    0.01   0.95  -1.52  -0.24   0.41   1.05   2.14   4000    1.0\n",
            "eta[1]    -0.02    0.01   0.87  -1.76  -0.59  -0.01   0.55   1.66   4000    1.0\n",
            "eta[2]    -0.19    0.01   0.93  -2.02  -0.81  -0.18   0.43   1.66   4000    1.0\n",
            "eta[3]    -0.04    0.01   0.88  -1.76  -0.61  -0.05   0.53   1.71   4000    1.0\n",
            "eta[4]    -0.37    0.01   0.85   -2.1  -0.94  -0.36   0.18   1.32   4000    1.0\n",
            "eta[5]    -0.23    0.01   0.89  -1.99  -0.81  -0.23   0.34   1.58   4000    1.0\n",
            "eta[6]     0.34    0.01   0.88  -1.45   -0.2   0.36   0.94   2.05   4000    1.0\n",
            "eta[7]     0.02    0.01   0.92  -1.72  -0.61   0.03   0.65   1.85   4000    1.0\n",
            "theta[0]  11.57    0.15   8.49  -1.93   5.82  10.31  15.65  32.44   3410    1.0\n",
            "theta[1]    7.9     0.1   6.24  -4.39   3.85   7.94  11.69  21.08   4000    1.0\n",
            "theta[2]   6.23    0.13   7.94 -11.25   1.98   6.64  11.02  21.15   4000    1.0\n",
            "theta[3]   7.56     0.1   6.53  -5.97   3.52   7.48  11.58  20.75   4000    1.0\n",
            "theta[4]   5.12     0.1   6.26  -8.79   1.26   5.62   9.36  16.15   4000    1.0\n",
            "theta[5]   6.01    0.11   6.74  -9.17   2.18   6.49  10.28  18.87   4000    1.0\n",
            "theta[6]  10.82    0.11   6.93   -1.4   6.29  10.17  14.57  26.87   4000    1.0\n",
            "theta[7]   8.27    0.13   7.91  -7.71   3.78    8.0   12.7  25.28   4000    1.0\n",
            "lp__      -4.81    0.08   2.57 -10.47   -6.4  -4.55  -2.99   -0.4   1161    1.0\n",
            "\n",
            "Samples were drawn using NUTS at Tue 28 Aug 2018 11:46:24 AM .\n",
            "For each parameter, n_eff is a crude measure of effective sample size,\n",
            "and Rhat is the potential scale reduction factor on split chains (at \n",
            "convergence, Rhat=1).\n"
          ],
          "name": "stdout"
        }
      ]
    },
    {
      "metadata": {
        "id": "3EAF7_oi6AKn",
        "colab_type": "text"
      },
      "cell_type": "markdown",
      "source": [
        "# Environment"
      ]
    },
    {
      "metadata": {
        "id": "d4MfZJBt6AKo",
        "colab_type": "code",
        "colab": {
          "base_uri": "https://localhost:8080/",
          "height": 136
        },
        "outputId": "244293ad-c9b2-465b-c2da-68e7b4736082"
      },
      "cell_type": "code",
      "source": [
        "import sys\n",
        "import numpy\n",
        "import cython\n",
        "from datetime import datetime\n",
        "print(\"Notebook date:\", datetime.now().date(), \"\\n\")\n",
        "for tool in [sys, numpy, cython, pystan]:\n",
        "    if tool.__name__ == 'sys':\n",
        "        print(\"python\", tool.version)\n",
        "    else:\n",
        "        print(tool.__name__, tool.__version__)"
      ],
      "execution_count": 16,
      "outputs": [
        {
          "output_type": "stream",
          "text": [
            "Notebook date: 2018-08-28 \n",
            "\n",
            "python 3.6.3 (default, Oct  3 2017, 21:45:48) \n",
            "[GCC 7.2.0]\n",
            "numpy 1.14.5\n",
            "cython 0.28.5\n",
            "pystan 2.17.1.0\n"
          ],
          "name": "stdout"
        }
      ]
    }
  ]
}