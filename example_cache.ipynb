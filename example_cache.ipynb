{
 "cells": [
  {
   "cell_type": "markdown",
   "metadata": {},
   "source": [
    "# Speeding up PyStan demos on Google Colab with model caching"
   ]
  },
  {
   "cell_type": "markdown",
   "metadata": {},
   "source": [
    "To speed up demos with caching, user needs to upload compiled models to github."
   ]
  },
  {
   "cell_type": "code",
   "execution_count": null,
   "metadata": {},
   "outputs": [],
   "source": [
    "!git clone https://github.com/ahartikainen/PyStan_Google_Colab_Demo\n",
    "import os\n",
    "os.chdir(\"PyStan_Google_Colab_Demo\")\n",
    "!git fetch --all\n",
    "!git reset --hard origin/master"
   ]
  },
  {
   "cell_type": "code",
   "execution_count": null,
   "metadata": {},
   "outputs": [],
   "source": [
    "!ls"
   ]
  },
  {
   "cell_type": "code",
   "execution_count": null,
   "metadata": {},
   "outputs": [],
   "source": [
    "from stan_colab_utils import StanModel, install"
   ]
  },
  {
   "cell_type": "code",
   "execution_count": null,
   "metadata": {},
   "outputs": [],
   "source": [
    "install(\"pystan\")\n",
    "import pystan"
   ]
  },
  {
   "cell_type": "code",
   "execution_count": null,
   "metadata": {},
   "outputs": [],
   "source": [
    "# Paths\n",
    "eight_schools_path =            \"models/eight_schools/8schools.stan\"\n",
    "eight_schools_data_path =       \"models/eight_schools/8schools.data.R\"\n",
    "eight_schools_model_cache =     \"models/eight_schools/8schools_model.gz\"\n",
    "eight_schools_model_fit_cache = \"models/eight_schools/8schools_model_fit.gz\""
   ]
  },
  {
   "cell_type": "markdown",
   "metadata": {},
   "source": [
    "## 8-schools model"
   ]
  },
  {
   "cell_type": "code",
   "execution_count": null,
   "metadata": {},
   "outputs": [],
   "source": [
    "with open(eight_schools_path, \"r\") as f:\n",
    "    print(f.read())"
   ]
  },
  {
   "cell_type": "markdown",
   "metadata": {},
   "source": [
    "## 8-schools data"
   ]
  },
  {
   "cell_type": "code",
   "execution_count": null,
   "metadata": {},
   "outputs": [],
   "source": [
    "stan_data = pystan.read_rdump(eight_schools_data_path)\n",
    "stan_data"
   ]
  },
  {
   "cell_type": "code",
   "execution_count": null,
   "metadata": {},
   "outputs": [],
   "source": [
    "stan_seed = 2018"
   ]
  },
  {
   "cell_type": "markdown",
   "metadata": {},
   "source": [
    "### Compile model and sample"
   ]
  },
  {
   "cell_type": "code",
   "execution_count": null,
   "metadata": {},
   "outputs": [],
   "source": [
    "%%time\n",
    "%time stan_model = pystan.StanModel(file=eight_schools_path)\n",
    "%time fit = stan_model.sampling(data=stan_data, seed=stan_seed)"
   ]
  },
  {
   "cell_type": "code",
   "execution_count": null,
   "metadata": {},
   "outputs": [],
   "source": [
    "print(fit)"
   ]
  },
  {
   "cell_type": "markdown",
   "metadata": {},
   "source": [
    "#### Update cache - Owner only [optional]"
   ]
  },
  {
   "cell_type": "code",
   "execution_count": null,
   "metadata": {},
   "outputs": [],
   "source": [
    "# To update git models run, change to True\n",
    "if False:\n",
    "    from stan_colab_utils import save, read\n",
    "    save(eight_schools_model_cache, stan_model)\n",
    "    save(eight_schools_model_fit_cache, [stan_model, fit])\n",
    "    \n",
    "    # To upload compiled models: \n",
    "    # download them to your local machine\n",
    "    # add to the correct git path --> add + push them to git\n",
    "    # Left menu --> files --> update\n",
    "    "
   ]
  },
  {
   "cell_type": "markdown",
   "metadata": {},
   "source": [
    "### Read file from cache (or compile if not found) and sample"
   ]
  },
  {
   "cell_type": "code",
   "execution_count": null,
   "metadata": {},
   "outputs": [],
   "source": [
    "%%time\n",
    "%time stan_model2 = StanModel(file=eight_schools_path, cache_path=eight_schools_model_cache)\n",
    "%time fit2 = stan_model2.sampling(data=stan_data, seed=stan_seed)"
   ]
  },
  {
   "cell_type": "code",
   "execution_count": null,
   "metadata": {},
   "outputs": [],
   "source": [
    "print(fit2)"
   ]
  },
  {
   "cell_type": "markdown",
   "metadata": {},
   "source": [
    "## Read sampling results"
   ]
  },
  {
   "cell_type": "code",
   "execution_count": null,
   "metadata": {},
   "outputs": [],
   "source": [
    "%%time\n",
    "# For slow models, it might be a good idea to save presampled data\n",
    "%time stan_model3, fit3 = read(eight_schools_model_fit_cache)"
   ]
  },
  {
   "cell_type": "code",
   "execution_count": null,
   "metadata": {},
   "outputs": [],
   "source": [
    "print(fit3)"
   ]
  },
  {
   "cell_type": "markdown",
   "metadata": {},
   "source": [
    "# Environment"
   ]
  },
  {
   "cell_type": "code",
   "execution_count": null,
   "metadata": {},
   "outputs": [],
   "source": [
    "import sys\n",
    "from datetime import datetime\n",
    "print(\"Notebook date:\", datetime.now().date(), \"\\n\")\n",
    "for tool in [sys, np, pystan]:\n",
    "    if tool.__name__ == 'sys':\n",
    "        print(\"python\", tool.version)\n",
    "    else:\n",
    "        print(tool.__name__, tool.__version__)"
   ]
  }
 ],
 "metadata": {
  "kernelspec": {
   "display_name": "Python 3",
   "language": "python",
   "name": "python3"
  },
  "language_info": {
   "codemirror_mode": {
    "name": "ipython",
    "version": 3
   },
   "file_extension": ".py",
   "mimetype": "text/x-python",
   "name": "python",
   "nbconvert_exporter": "python",
   "pygments_lexer": "ipython3",
   "version": "3.7.0"
  }
 },
 "nbformat": 4,
 "nbformat_minor": 2
}
